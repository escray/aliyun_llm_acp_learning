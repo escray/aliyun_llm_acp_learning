{
 "cells": [
  {
   "cell_type": "code",
   "execution_count": null,
   "id": "d9977e64",
   "metadata": {},
   "outputs": [],
   "source": [
    "!pip3 install -U llama-index llama-index-embeddings-dashscope llama-index-llms-openai-like llama-index-llms-dashscope"
   ]
  },
  {
   "cell_type": "markdown",
   "id": "d43cb745",
   "metadata": {},
   "source": [
    "1. 解析文件，创建索引和提问引擎\n",
    "\n",
    "只包括创建索引、创建提问引擎、提问和生成解答 4 个步骤。"
   ]
  },
  {
   "cell_type": "code",
   "execution_count": null,
   "id": "54453ef7",
   "metadata": {},
   "outputs": [],
   "source": [
    "# 导入依赖\n",
    "import os\n",
    "from llama_index.embeddings.dashscope import DashScopeEmbedding, DashScopeTextEmbeddingModels\n",
    "from llama_index.core import SimpleDirectoryReader, VectorStoreIndex\n",
    "from llama_index.llms.openai_like import OpenAILike\n",
    "# 这两行代码是用于消除 WARNING 警告信息，避免干扰阅读学习，生产环境中建议根据需要来设置日志级别\n",
    "import logging\n",
    "logging.basicConfig(level=logging.ERROR)\n",
    "\n",
    "print(\"正在解析文件...\")\n",
    "# LlamaIndex提供了SimpleDirectoryReader方法，可以直接将指定文件夹中的文件加载为document对象，对应着解析过程\n",
    "documents = SimpleDirectoryReader('./docs').load_data()\n",
    "\n",
    "print(\"正在创建索引...\")\n",
    "# from_documents方法包含切片与建立索引步骤\n",
    "index = VectorStoreIndex.from_documents(\n",
    "  documents,\n",
    "  # 指定embedding 模型\n",
    "  embed_model=DashScopeEmbedding(\n",
    "    # 你也可以使用阿里云提供的其它embedding模型：https://help.aliyun.com/zh/model-studio/getting-started/models#3383780daf8hw\n",
    "    model_name=DashScopeTextEmbeddingModels.TEXT_EMBEDDING_V2\n",
    "  )\n",
    ")\n",
    "\n",
    "print(\"正在创建提问引擎...\")\n",
    "query_engine = index.as_query_engine(\n",
    "  # 设置为流式输出\n",
    "  streaming=True,\n",
    "  # 此处使用qwen-plus模型，你也可以使用阿里云提供的其它qwen的文本生成模型：https://help.aliyun.com/zh/model-studio/getting-started/models#9f8890ce29g5u\n",
    "  llm=OpenAILike(\n",
    "    model=\"qwen-plus\",\n",
    "    api_base=\"https://dashscope.aliyuncs.com/compatible-mode/v1\",\n",
    "    api_key=os.getenv(\"DASHSCOPE_API_KEY\"),\n",
    "    is_chat_model=True\n",
    "  )\n",
    ")\n",
    "\n",
    "print(\"正在生成回复...\")\n",
    "streaming_response = query_engine.query('我们公司项目管理应该用什么工具')\n",
    "print(\"回答是：\")\n",
    "# 采用流式输出\n",
    "streaming_response.print_response_stream()"
   ]
  },
  {
   "cell_type": "markdown",
   "id": "61490ec7",
   "metadata": {},
   "source": [
    "2. 保存和加载索引"
   ]
  },
  {
   "cell_type": "code",
   "execution_count": null,
   "id": "3271d8c8",
   "metadata": {},
   "outputs": [],
   "source": [
    "# 将索引保存为本地文件\n",
    "# 创建索引消耗的时间比较长。如果能够将索引保存到本地，并在需要使用的时候直接加载，\n",
    "# 而不是重新建立索引，那就可以大幅提升回复的速度\n",
    "index.storage_context.persist(\"knowledge_base/test\")\n",
    "print(\"索引文件保存到了knowledge_base/test\")"
   ]
  },
  {
   "cell_type": "code",
   "execution_count": null,
   "id": "f9626e8a",
   "metadata": {},
   "outputs": [],
   "source": [
    "# 将本地索引文件加载为索引\n",
    "from llama_index.core import StorageContext, load_index_from_storage\n",
    "storage_context = StorageContext.from_defaults(persist_dir=\"knowledge_base/test\")\n",
    "index = load_index_from_storage(storage_context, embed_model=DashScopeEmbedding(\n",
    "  model_name=DashScopeTextEmbeddingModels.TEXT_EMBEDDING_V2\n",
    "))\n",
    "print(\"成功从knowledge_base/test路径加载索引\")"
   ]
  },
  {
   "cell_type": "markdown",
   "id": "c17b0c54",
   "metadata": {},
   "source": [
    "3. 从本地加载索引后，可以再次进行提问，测试是否可以进行正常工作"
   ]
  },
  {
   "cell_type": "code",
   "execution_count": null,
   "id": "79600871",
   "metadata": {},
   "outputs": [],
   "source": [
    "print(\"正在创建提问引擎...\")\n",
    "query_engine = index.as_query_engine(\n",
    "  # 设置为流式输出\n",
    "  streaming=True,\n",
    "  # 此处使用qwen-plus模型，你也可以使用阿里云提供的其它qwen的文本生成模型：https://help.aliyun.com/zh/model-studio/getting-started/models#9f8890ce29g5u\n",
    "  llm=OpenAILike(\n",
    "    model=\"qwen-plus\",\n",
    "    api_base=\"https://dashscope.aliyuncs.com/compatible-mode/v1\",\n",
    "    api_key=os.getenv(\"DASHSCOPE_API_KEY\"),\n",
    "    is_chat_model=True\n",
    "  )\n",
    ")\n",
    "\n",
    "print(\"正在生成回复...\")\n",
    "streaming_response = query_engine.query('我们公司项目管理应该用什么工具')\n",
    "print(\"回答是：\")\n",
    "streaming_response.print_response_stream()\n"
   ]
  },
  {
   "cell_type": "markdown",
   "id": "7b4a6373",
   "metadata": {},
   "source": [
    "4. 封装为自定义函数库"
   ]
  },
  {
   "cell_type": "code",
   "execution_count": null,
   "id": "892200fd",
   "metadata": {},
   "outputs": [],
   "source": [
    "from chatbot import rag\n",
    "\n",
    "# 引文在前面的步骤中已经建立了索引，因此这里可以直接加载索引。如果需要重建索引，可以增加一行代码：rag.indexing()\n",
    "index = rag.load_index()\n",
    "query_engine = rag.create_query_engine(index=index)\n",
    "\n",
    "rag.ask('我们公司项目管理应该用什么工具', query_engine=query_engine)"
   ]
  },
  {
   "cell_type": "markdown",
   "id": "6fb491a4",
   "metadata": {},
   "source": [
    "5. 多轮对话 RAG"
   ]
  },
  {
   "cell_type": "code",
   "execution_count": null,
   "id": "f898cd1e",
   "metadata": {},
   "outputs": [
    {
     "name": "stdout",
     "output_type": "stream",
     "text": [
      "Querying with: 内容开发工程师（综合技术岗位）的核心职责是什么？\n",
      "内容开发工程师（综合技术岗位）的核心职责包括：\n",
      "\n",
      "- **内容创作与编辑**：根据项目需求，撰写和编辑各类内容，确保信息准确且符合目标受众的需求。\n",
      "- **内容管理**：使用相关工具和技术对内容进行分类、标签化、更新和维护，实现内容的高效管理。\n",
      "- **内容优化**：通过SEO等手段提升内容的可见性与吸引力，增强用户参与度。\n",
      "- **技术整合**：与开发团队协作，将内容无缝集成到网站、应用程序或其他数字平台中。\n",
      "- **数据分析**：分析用户行为数据，评估内容效果，为优化内容策略提供数据支持。"
     ]
    }
   ],
   "source": [
    "from llama_index.core import PromptTemplate\n",
    "from llama_index.core.llms import ChatMessage, MessageRole\n",
    "from llama_index.core.chat_engine import CondenseQuestionChatEngine\n",
    "from llama_index.llms.openai_like import OpenAILike\n",
    "import os\n",
    "\n",
    "custom_prompt = PromptTemplate(\n",
    "  \"\"\"\\\n",
    "  给定一段对话（在人类与助手之间）以及来自人类的后续信息，\n",
    "  请将该信息改写为一个独立的问题，并在其中包含对话中的所有相关上下文。\n",
    "  <聊天记录>\n",
    "  {chat_history}\n",
    "  <后续信息>\n",
    "  {question}\n",
    "  <独立的问题>\n",
    "  \"\"\"\n",
    ")\n",
    "\n",
    "# 历史对话信息\n",
    "custom_chat_history = [\n",
    "  ChatMessage(role=MessageRole.USER, content=\"内容开发工程师细分类型是什么?\",),\n",
    "  ChatMessage(role=MessageRole.ASSISTANT, content=\"综合技术岗位.\"),\n",
    "]\n",
    "\n",
    "query_engine = index.as_query_engine(\n",
    "  # 设置为流式输出\n",
    "  streaming = True,\n",
    "  # 此处使用qwen-plus模型，你也可以使用阿里云提供的其它qwen的文本生成模型：https://help.aliyun.com/zh/model-studio/getting-started/models#9f8890ce29g5u\n",
    "  llm = OpenAILike(\n",
    "    model = \"qwen-plus\",\n",
    "    api_base = \"https://dashscope.aliyuncs.com/compatible-mode/v1\",\n",
    "    api_key = os.getenv(\"DASHSCOPE_API_KEY\"),\n",
    "    is_chat_model = True\n",
    "  )\n",
    ")\n",
    "\n",
    "chat_engine = CondenseQuestionChatEngine.from_defaults(\n",
    "  query_engine = query_engine,\n",
    "  condense_question_prompt = custom_prompt,\n",
    "  chat_history = custom_chat_history,\n",
    "  llm = OpenAILike(\n",
    "    model = \"qwen-plus\",\n",
    "    api_base = \"https://dashscope.aliyuncs.com/compatible-mode/v1\",\n",
    "    api_key = os.getenv(\"DASHSCOPE_API_KEY\"),\n",
    "    is_chat_model = True\n",
    "  ),\n",
    "  verbose = True\n",
    ")\n",
    "\n",
    "streaming_response = chat_engine.stream_chat(\"核心职责是什么\")\n",
    "for token in streaming_response.response_gen:\n",
    "  print(token, end=\"\")\n"
   ]
  }
 ],
 "metadata": {
  "kernelspec": {
   "display_name": "ACPEnv",
   "language": "python",
   "name": "python3"
  },
  "language_info": {
   "codemirror_mode": {
    "name": "ipython",
    "version": 3
   },
   "file_extension": ".py",
   "mimetype": "text/x-python",
   "name": "python",
   "nbconvert_exporter": "python",
   "pygments_lexer": "ipython3",
   "version": "3.13.5"
  }
 },
 "nbformat": 4,
 "nbformat_minor": 5
}
