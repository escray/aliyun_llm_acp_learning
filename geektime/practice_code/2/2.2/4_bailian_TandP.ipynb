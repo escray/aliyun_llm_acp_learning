{
 "cells": [
  {
   "cell_type": "code",
   "execution_count": 10,
   "id": "940dd2b3",
   "metadata": {},
   "outputs": [
    {
     "name": "stdout",
     "output_type": "stream",
     "text": [
      "\n",
      "=== the 1 group===\n",
      "Temperature: 1.9, Top_p: 0.9\n",
      "Answer:  Fresh, crisp, juicy.\n",
      "\n",
      "=== the 2 group===\n",
      "Temperature: 1.9, Top_p: 0.9\n",
      "Answer:  Fresh, crisp, juicy.\n",
      "\n",
      "=== the 3 group===\n",
      "Temperature: 1.9, Top_p: 0.9\n",
      "Answer:  Fresh, crisp, sweet.\n",
      "\n",
      "=== the 4 group===\n",
      "Temperature: 1.9, Top_p: 0.9\n",
      "Answer:  Innovative, iconic, delicious.\n",
      "\n",
      "=== the 5 group===\n",
      "Temperature: 1.9, Top_p: 0.9\n",
      "Answer:  Fresh, crisp, juicy.\n",
      "\n",
      "=== the 6 group===\n",
      "Temperature: 1.9, Top_p: 0.9\n",
      "Answer:  Fresh, crisp, juicy.\n",
      "\n",
      "=== the 7 group===\n",
      "Temperature: 1.9, Top_p: 0.9\n",
      "Answer:  Fresh, crisp, sweet.\n",
      "\n",
      "=== the 8 group===\n",
      "Temperature: 1.9, Top_p: 0.9\n",
      "Answer:  Fresh, crisp, juicy.\n",
      "\n",
      "=== the 9 group===\n",
      "Temperature: 1.9, Top_p: 0.9\n",
      "Answer:  Innovative, iconic, delicious.\n",
      "\n",
      "=== the 10 group===\n",
      "Temperature: 1.9, Top_p: 0.9\n",
      "Answer:  Fresh, crisp, juicy.\n"
     ]
    }
   ],
   "source": [
    "import os\n",
    "from dashscope import Generation\n",
    "\n",
    "messages = [\n",
    "  {'role': 'system', 'content': 'You are a helpful assistant.'},\n",
    "  {'role': 'user', 'content': 'use 3 words describe apple'}\n",
    "]\n",
    "\n",
    "temp = 1.9\n",
    "top_p = 0.9\n",
    "\n",
    "i = 1\n",
    "test_params = [\n",
    "  {\"temp\": temp, \"top_p\": top_p, \"desc\": \"the \"+ str(i) + \" group\"} for i in range(1, 11)\n",
    "]\n",
    "\n",
    "for params in test_params:\n",
    "  print(f\"\\n=== {params['desc']}===\")\n",
    "  print(f\"Temperature: {params['temp']}, Top_p: {params['top_p']}\")\n",
    "\n",
    "  response = Generation.call(\n",
    "    api_key = os.getenv(\"DASHSCOPE_API_KEY\"),\n",
    "    model = \"qwen-plus\",\n",
    "    messages = messages,\n",
    "    result_format = \"message\",\n",
    "    Temperature = params['temp'],\n",
    "    top_p = params['top_p']\n",
    "  )\n",
    "\n",
    "  print(\"Answer: \", response.output.choices[0].message.content)"
   ]
  }
 ],
 "metadata": {
  "kernelspec": {
   "display_name": "base",
   "language": "python",
   "name": "python3"
  },
  "language_info": {
   "codemirror_mode": {
    "name": "ipython",
    "version": 3
   },
   "file_extension": ".py",
   "mimetype": "text/x-python",
   "name": "python",
   "nbconvert_exporter": "python",
   "pygments_lexer": "ipython3",
   "version": "3.13.5"
  }
 },
 "nbformat": 4,
 "nbformat_minor": 5
}
