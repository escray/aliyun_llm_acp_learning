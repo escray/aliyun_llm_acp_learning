{
 "cells": [
  {
   "cell_type": "code",
   "execution_count": 10,
   "id": "a02c2406",
   "metadata": {},
   "outputs": [],
   "source": [
    "# 导入所需的依赖包\n",
    "import os\n",
    "os.environ[\"TRANSFORMS_VERBOSITY\"] = \"error\"\n",
    "import sys\n",
    "sys.path.append(\"..\")\n",
    "from config.load_key import load_key\n",
    "from llama_index.core.node_parser import (\n",
    "  SentenceSplitter,\n",
    "  SemanticSplitterNodeParser,\n",
    "  SentenceWindowNodeParser,\n",
    "  MarkdownNodeParser,\n",
    "  TokenTextSplitter\n",
    ")"
   ]
  },
  {
   "cell_type": "code",
   "execution_count": null,
   "id": "f88c0c23",
   "metadata": {},
   "outputs": [],
   "source": [
    "\n",
    "\n",
    "def evaluate_splitter(splitter, documents, question, ground_truth, splitter_name):\n",
    "  \"\"\"评测不同文档切片方法的效果\"\"\"\n",
    "  print(f\"\\n{'='*50}\\n\")\n",
    "  print(f\"🔍 正在使用 {splitter_name} 方法进行测试...\")\n",
    "  print(f\"\\n{'='*50}\\n\")\n",
    "\n",
    "  # 构建索引\n",
    "  print(\"📑 正在处理文档...\")\n",
    "  nodes = splitter.get_nodes_from_documents(documents)\n",
    "  index = VectorStoreIndex(nodes, embed_model = Settings.embed_model)\n",
    "\n",
    "  # 创建查询引擎\n",
    "  query_engine = index.as_query_engine(\n",
    "    similarity_top_k = 5,\n",
    "    stream = True\n",
    "  )\n",
    "\n",
    "  # 执行查询\n",
    "  print(f\"\\n❓ 测试问题: {question}\")\n",
    "  print(\"\\n🤖 模型回答:\")\n",
    "  response = query_engine.query(question)\n",
    "  response.print_response_stream()\n",
    "\n",
    "  # 输出参考片段\n",
    "  print(f\"\\n📚 {splitter_name} 召回的参考片段:\")\n",
    "  for i, node in enumerate(response.source_nodes, 1):\n",
    "    print(f\"\\n文档片段 {i}:\")\n",
    "    print(\"-\"*40)\n",
    "    print(node)\n",
    "\n",
    "  # 评估结果\n",
    "  print(f\"\\n📊 {splitter_name} 评估结果:\")\n",
    "  print(\"-\"*40)\n",
    "  display(evaluate_result(question, response, ground_truth))"
   ]
  }
 ],
 "metadata": {
  "kernelspec": {
   "display_name": "ACPEnv",
   "language": "python",
   "name": "python3"
  },
  "language_info": {
   "codemirror_mode": {
    "name": "ipython",
    "version": 3
   },
   "file_extension": ".py",
   "mimetype": "text/x-python",
   "name": "python",
   "nbconvert_exporter": "python",
   "pygments_lexer": "ipython3",
   "version": "3.13.5"
  }
 },
 "nbformat": 4,
 "nbformat_minor": 5
}
