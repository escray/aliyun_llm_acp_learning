{
 "cells": [
  {
   "cell_type": "markdown",
   "id": "6144a75a",
   "metadata": {},
   "source": [
    "1 定义工具函数\n",
    "\n",
    "配置好环境变量后，我们就可以通过Assistant API来构建一个Agent了。\n",
    "首先我们需要定义一些工具函数，假设我们的答疑机器人有三个功能，查询员工信息，发送请假申请，查询公司规章制度。\n",
    "我们需要定义三个工具函数。\n",
    "\n",
    "1.1 查询员工信息\n",
    "\n",
    "你希望将用户的提问作为工具函数的输入，并生成对应的SQL语句（这一步骤也叫NL2SQL，即自然语言转SQL语句），再使用SQL语句去数据库中查询，将查询结果作为工具函数的输出。为了帮助你更多的关注到Agent的内容，我们模拟一个查询步骤，而不实际去数据库中查询。\n",
    "\n",
    "假设员工表名为employee，字段包括department（部门）、name（姓名）、HR。"
   ]
  },
  {
   "cell_type": "code",
   "execution_count": null,
   "id": "3dc0edf9",
   "metadata": {},
   "outputs": [
    {
     "name": "stdout",
     "output_type": "stream",
     "text": [
      "************\n",
      "SQL statement is: select count(*) from employees where department = '教育部门'\n"
     ]
    },
    {
     "data": {
      "text/plain": [
       "'教育部门共有66名员工。'"
      ]
     },
     "execution_count": 22,
     "metadata": {},
     "output_type": "execute_result"
    }
   ],
   "source": [
    "from llama_index.llms.dashscope import DashScope\n",
    "from llama_index.core.base.llms.types import MessageRole, ChatMessage\n",
    "\n",
    "def query_employee_info(query):\n",
    "  llm = DashScope(model_name=\"qwen-plus\")\n",
    "  messages = [\n",
    "    ChatMessage(role=MessageRole.SYSTEM, content='''你有一个表叫employees，记录公司的员工信息，这个表有department（部门）、name（姓名）、HR三个字段。\n",
    "      你需要根据用户输入生成sql语句进行查询,你一定不能生成sql语句之外的内容，也不要把```sql```这个信息加上。\n",
    "    '''),\n",
    "    ChatMessage(role=MessageRole.USER, content=query)\n",
    "  ]\n",
    "  SQL_output = llm.chat(messages).message.content.lower()\n",
    "  print(f'SQL statement is: {SQL_output}')\n",
    "  # 2. 根据SQL语句去查询数据库（此处为模拟查询），并返回结果\n",
    "  if SQL_output == \"select count(*) from employees where department = '教育部门'\":\n",
    "      return \"教育部门共有66名员工。\"\n",
    "  if SQL_output == \"SELECT HR FROM employees WHERE name = '张三'\".lower():\n",
    "      return \"张三的HR是李四。\"\n",
    "  if SQL_output == \"select department from employees where name = '王五'\".lower():\n",
    "      return \"王五的部门是后勤部。\"\n",
    "  else:\n",
    "      return \"抱歉，我暂时无法回答您的问题。\"\n",
    "\n",
    "# query_employee_info(\"王五在哪个部门？\")\n",
    "# print(\"*\"*12)\n",
    "query_employee_info(\"教育部门有几个人\")"
   ]
  },
  {
   "cell_type": "markdown",
   "id": "28a424ec",
   "metadata": {},
   "source": [
    "1.2 发送请假申请\n",
    "\n",
    "你希望这个工具函数将员工输入的请假日期作为输入参数，并返回一个申请成功的字符串。我们在此模拟一个申请步骤，而不实际去公司系统中提交请假申请。"
   ]
  },
  {
   "cell_type": "code",
   "execution_count": 23,
   "id": "716519a6",
   "metadata": {},
   "outputs": [
    {
     "name": "stdout",
     "output_type": "stream",
     "text": [
      "已为你发送请假申请，请假日期是明后两天\n"
     ]
    }
   ],
   "source": [
    "def send_leave_application(date):\n",
    "  '''\n",
    "  输入请假时间，输出请假申请发送结果\n",
    "  '''\n",
    "  return f'已为你发送请假申请，请假日期是{date}'\n",
    "\n",
    "# 测试一下这个函数\n",
    "print(send_leave_application(\"明后两天\"))"
   ]
  },
  {
   "cell_type": "markdown",
   "id": "5192265c",
   "metadata": {},
   "source": [
    "1.3 查询公司规章制度\n",
    "\n",
    "你希望这个工具函数以用户的提问作为输入，输出是根据之前教程创建的RAG答疑机器人给出的回复。"
   ]
  },
  {
   "cell_type": "code",
   "execution_count": null,
   "id": "9c4c277c",
   "metadata": {},
   "outputs": [],
   "source": [
    "import sys\n",
    "sys.path.append(\"..\")\n",
    "from chatbot.rag import load_index\n",
    "\n",
    "def query_company_info(query):\n",
    "  '''\n",
    "  输入用户提问，输出公司信息查询结果\n",
    "  '''\n",
    "  # 使用封装好的函数加载索引\n",
    "  index = load_index()\n",
    "  query_engine = index.as_query_engine(\n",
    "    llm=DashScope(model_name=\"qwen-plus\")\n",
    "  )\n",
    "  return query_engine.query(query).response\n",
    "# 测试一下效果\n",
    "query_company_info(\"我们公司项目管理应该用什么工具\")"
   ]
  },
  {
   "cell_type": "markdown",
   "id": "b1926fb7",
   "metadata": {},
   "source": [
    "尽管这些工具函数的实现比较简单，但却是大模型与外界交互的关键。接下来我们将使用Assistant API创建一个Agent，并将这三个工具函数集成进来。\n",
    "\n",
    "2 将工具函数与大模型集成进Agent中\n",
    "\n",
    "你已经定义好了工具函数，接下来就要将它们与大模型通过Assistant API集成到Agent中。\n",
    "\n",
    "通过Assistants.create方法，你可以创建一个新的Agent，并通过model（模型名称）、name（Agent命名）、description（Agent的描述信息）、instructions（Agent非常重要的参数，用于提示Agent所具有的工具函数能力，同时也可以规范输出格式）、tools（工具函数通过该参数传入）参数来定义Agent。\n",
    "\n",
    "其中，tools参数中的function.name用于指定工具函数，但需要为字符串格式，因此可以通过一个map方法映射到工具函数上。"
   ]
  },
  {
   "cell_type": "code",
   "execution_count": null,
   "id": "dd191786",
   "metadata": {},
   "outputs": [],
   "source": []
  },
  {
   "cell_type": "markdown",
   "id": "0365f292",
   "metadata": {},
   "source": [
    "通过Assistant API获得Agent回复的过程需要涉及到如thread、message、run等概念，如果你对这些概念与细节感兴趣，请参考阿里云Assistant API官方文档。\n",
    "\n",
    "我们封装好了一个辅助函数get_agent_response，你只需要传入Agent与提问内容，即可得到指定Agent的回复。\n",
    "\n",
    "如果你希望给Agent配备更多的能力，可以添加工具函数，并在function_mapper与tools中建立映射关系。"
   ]
  },
  {
   "cell_type": "code",
   "execution_count": null,
   "id": "5750d208",
   "metadata": {},
   "outputs": [],
   "source": []
  },
  {
   "cell_type": "markdown",
   "id": "27731515",
   "metadata": {},
   "source": [
    "我们可以向ChatAssistant提问，测试一下回复效果。"
   ]
  },
  {
   "cell_type": "code",
   "execution_count": null,
   "id": "34239e90",
   "metadata": {},
   "outputs": [],
   "source": []
  },
  {
   "cell_type": "markdown",
   "id": "c928f5be",
   "metadata": {},
   "source": [
    "从测试结果可以看出，拓展了功能之后的答疑机器人达到了你预期的效果。"
   ]
  }
 ],
 "metadata": {
  "kernelspec": {
   "display_name": "ACPEnv",
   "language": "python",
   "name": "python3"
  },
  "language_info": {
   "codemirror_mode": {
    "name": "ipython",
    "version": 3
   },
   "file_extension": ".py",
   "mimetype": "text/x-python",
   "name": "python",
   "nbconvert_exporter": "python",
   "pygments_lexer": "ipython3",
   "version": "3.13.5"
  }
 },
 "nbformat": 4,
 "nbformat_minor": 5
}
