{
 "cells": [
  {
   "cell_type": "markdown",
   "id": "6144a75a",
   "metadata": {},
   "source": [
    "1 定义工具函数\n",
    "\n",
    "配置好环境变量后，我们就可以通过Assistant API来构建一个Agent了。\n",
    "首先我们需要定义一些工具函数，假设我们的答疑机器人有三个功能，查询员工信息，发送请假申请，查询公司规章制度。\n",
    "我们需要定义三个工具函数。\n",
    "\n",
    "1.1 查询员工信息\n",
    "\n",
    "你希望将用户的提问作为工具函数的输入，并生成对应的SQL语句（这一步骤也叫NL2SQL，即自然语言转SQL语句），再使用SQL语句去数据库中查询，将查询结果作为工具函数的输出。为了帮助你更多的关注到Agent的内容，我们模拟一个查询步骤，而不实际去数据库中查询。\n",
    "\n",
    "假设员工表名为employee，字段包括department（部门）、name（姓名）、HR。"
   ]
  },
  {
   "cell_type": "code",
   "execution_count": null,
   "id": "3dc0edf9",
   "metadata": {},
   "outputs": [
    {
     "name": "stdout",
     "output_type": "stream",
     "text": [
      "************\n",
      "SQL statement is: select count(*) from employees where department = '教育部门'\n"
     ]
    },
    {
     "data": {
      "text/plain": [
       "'教育部门共有66名员工。'"
      ]
     },
     "execution_count": 22,
     "metadata": {},
     "output_type": "execute_result"
    }
   ],
   "source": [
    "from llama_index.llms.dashscope import DashScope\n",
    "from llama_index.core.base.llms.types import MessageRole, ChatMessage\n",
    "\n",
    "def query_employee_info(query):\n",
    "  llm = DashScope(model_name=\"qwen-plus\")\n",
    "  messages = [\n",
    "    ChatMessage(role=MessageRole.SYSTEM, content='''你有一个表叫employees，记录公司的员工信息，这个表有department（部门）、name（姓名）、HR三个字段。\n",
    "      你需要根据用户输入生成sql语句进行查询,你一定不能生成sql语句之外的内容，也不要把```sql```这个信息加上。\n",
    "    '''),\n",
    "    ChatMessage(role=MessageRole.USER, content=query)\n",
    "  ]\n",
    "  SQL_output = llm.chat(messages).message.content.lower()\n",
    "  print(f'SQL statement is: {SQL_output}')\n",
    "  # 2. 根据SQL语句去查询数据库（此处为模拟查询），并返回结果\n",
    "  if SQL_output == \"select count(*) from employees where department = '教育部门'\":\n",
    "      return \"教育部门共有66名员工。\"\n",
    "  if SQL_output == \"SELECT HR FROM employees WHERE name = '张三'\".lower():\n",
    "      return \"张三的HR是李四。\"\n",
    "  if SQL_output == \"select department from employees where name = '王五'\".lower():\n",
    "      return \"王五的部门是后勤部。\"\n",
    "  else:\n",
    "      return \"抱歉，我暂时无法回答您的问题。\"\n",
    "\n",
    "# query_employee_info(\"王五在哪个部门？\")\n",
    "# print(\"*\"*12)\n",
    "query_employee_info(\"教育部门有几个人\")"
   ]
  },
  {
   "cell_type": "markdown",
   "id": "28a424ec",
   "metadata": {},
   "source": [
    "1.2 发送请假申请\n",
    "\n",
    "你希望这个工具函数将员工输入的请假日期作为输入参数，并返回一个申请成功的字符串。我们在此模拟一个申请步骤，而不实际去公司系统中提交请假申请。"
   ]
  },
  {
   "cell_type": "code",
   "execution_count": 23,
   "id": "716519a6",
   "metadata": {},
   "outputs": [
    {
     "name": "stdout",
     "output_type": "stream",
     "text": [
      "已为你发送请假申请，请假日期是明后两天\n"
     ]
    }
   ],
   "source": [
    "def send_leave_application(date):\n",
    "  '''\n",
    "  输入请假时间，输出请假申请发送结果\n",
    "  '''\n",
    "  return f'已为你发送请假申请，请假日期是{date}'\n",
    "\n",
    "# 测试一下这个函数\n",
    "print(send_leave_application(\"明后两天\"))"
   ]
  },
  {
   "cell_type": "markdown",
   "id": "5192265c",
   "metadata": {},
   "source": [
    "1.3 查询公司规章制度\n",
    "\n",
    "你希望这个工具函数以用户的提问作为输入，输出是根据之前教程创建的RAG答疑机器人给出的回复。"
   ]
  },
  {
   "cell_type": "code",
   "execution_count": 25,
   "id": "9c4c277c",
   "metadata": {},
   "outputs": [
    {
     "data": {
      "text/plain": [
       "'公司一般情况下应使用Microsoft Project作为项目管理工具，因为公司已购买完整的许可证。软件研发一组、三组和四组目前使用Jira，但计划在2026年之前逐步切换至Microsoft Project。'"
      ]
     },
     "execution_count": 25,
     "metadata": {},
     "output_type": "execute_result"
    }
   ],
   "source": [
    "import sys\n",
    "sys.path.append(\"..\")\n",
    "from chatbot.rag import load_index\n",
    "\n",
    "def query_company_info(query):\n",
    "  '''\n",
    "  输入用户提问，输出公司信息查询结果\n",
    "  '''\n",
    "  # 使用封装好的函数加载索引\n",
    "  index = load_index()\n",
    "  query_engine = index.as_query_engine(\n",
    "    llm=DashScope(model_name=\"qwen-plus\")\n",
    "  )\n",
    "  return query_engine.query(query).response\n",
    "# 测试一下效果\n",
    "query_company_info(\"我们公司项目管理应该用什么工具\")"
   ]
  },
  {
   "cell_type": "markdown",
   "id": "b1926fb7",
   "metadata": {},
   "source": [
    "尽管这些工具函数的实现比较简单，但却是大模型与外界交互的关键。接下来我们将使用Assistant API创建一个Agent，并将这三个工具函数集成进来。\n",
    "\n",
    "2 将工具函数与大模型集成进Agent中\n",
    "\n",
    "你已经定义好了工具函数，接下来就要将它们与大模型通过Assistant API集成到Agent中。\n",
    "\n",
    "通过Assistants.create方法，你可以创建一个新的Agent，并通过model（模型名称）、name（Agent命名）、description（Agent的描述信息）、instructions（Agent非常重要的参数，用于提示Agent所具有的工具函数能力，同时也可以规范输出格式）、tools（工具函数通过该参数传入）参数来定义Agent。\n",
    "\n",
    "其中，tools参数中的function.name用于指定工具函数，但需要为字符串格式，因此可以通过一个map方法映射到工具函数上。"
   ]
  },
  {
   "cell_type": "code",
   "execution_count": 33,
   "id": "dd191786",
   "metadata": {},
   "outputs": [
    {
     "name": "stdout",
     "output_type": "stream",
     "text": [
      "贾维斯 创建完成\n",
      "工具函数与function.name映射关系建立完成\n"
     ]
    }
   ],
   "source": [
    "# 引入依赖\n",
    "from dashscope import Assistants, Messages, Runs, Threads\n",
    "import json\n",
    "\n",
    "# 定义贾维斯\n",
    "ChatAssistant = Assistants.create(\n",
    "  # 在此指定模型名称\n",
    "  model=\"qwen-plus\",\n",
    "  # 在此指定Agent名称\n",
    "  name=\"贾维斯\",\n",
    "  # 在此指定Agent的描述信息\n",
    "  description=\"一个智能助手，能够查询员工信息，帮助员工发送请假申请，或者查询公司规章制度。\",\n",
    "  # 用于提示大模型所具有的工具函数能力，也可以规范输出格式\n",
    "  instruction='''\n",
    "  你是贾维斯，你的功能有以下三个：\n",
    "    1. 查询员工信息。例如：查询员工张三的HR是谁；\n",
    "    2. 发送请假申请。例如：当员工提出要请假时，你可以在系统里帮他完成请假申请的发送；\n",
    "    3. 查询公司规章制度。例如：我们公司项目管理的工具是什么？\n",
    "    请准确判断需要调用哪个工具，并礼貌回答用户的提问。\n",
    "  ''',\n",
    "  # 将工具函数传入\n",
    "  tools =[\n",
    "    {\n",
    "      # 定义工具函数类型，一般设置为function即可\n",
    "      'type': 'function',\n",
    "      'function': {\n",
    "        # 定义工具函数名称，通过map方法映射到query_employee_info函数\n",
    "        'name': '查询员工信息',\n",
    "        # 定义工具函数的描述信息，Agent主要根据description来判断是否需要调用该工具函数\n",
    "        'description': '当需要查询员工信息时非常有用，比如查询员工张三的HR是谁，查询教育部门总人数等。',\n",
    "        # 定义工具函数的参数\n",
    "        'parameters': {\n",
    "          'type': 'object',\n",
    "          'properties': {\n",
    "            # 将用户的提问作为输入参数\n",
    "            'query': {\n",
    "              'type': 'str',\n",
    "              # 对输入参数的描述\n",
    "              'description': '用户的提问'\n",
    "            },\n",
    "          },\n",
    "          # 在此声明该工具函数需要哪些函数\n",
    "          'required': ['query']\n",
    "        },\n",
    "      }\n",
    "    },\n",
    "    {\n",
    "      'type': 'function',\n",
    "      'function': {\n",
    "        'name': '发送请假申请',\n",
    "        'description': '当需要帮助员工发送请假申请时非常有用。',\n",
    "        'parameters': {\n",
    "          'type': 'object',\n",
    "          'properties': {\n",
    "            # 需要请假的时间\n",
    "            'date': {\n",
    "              'type': 'str',\n",
    "              'description': '员工想要请假的时间'\n",
    "            },\n",
    "          },\n",
    "          'required': ['date']\n",
    "        },\n",
    "      }\n",
    "    },\n",
    "    {\n",
    "      'type': 'function',\n",
    "      'function': {\n",
    "        'name': '查询公司规章制度',\n",
    "        'description': '当需要查询公司规章制度时非常有用，比如查询公司项目管理的工具是什么，查询公司都有哪些部门等。',\n",
    "        'parameters': {\n",
    "          'type': 'object',\n",
    "          'properties': {\n",
    "            'query': {\n",
    "              'type': 'str',\n",
    "              'description': '用户的提问'\n",
    "            }\n",
    "          }\n",
    "        }\n",
    "      }\n",
    "    }\n",
    "  ]\n",
    ")\n",
    "print(f'{ChatAssistant.name} 创建完成')\n",
    "\n",
    "# 建立Agent Function name与工具函数的映射关系\n",
    "function_mapper = {\n",
    "  \"查询员工信息\": query_employee_info,\n",
    "  \"发送请假申请\": send_leave_application,\n",
    "  \"查询公司规章制度\": query_company_info\n",
    "}\n",
    "\n",
    "print('工具函数与function.name映射关系建立完成')"
   ]
  },
  {
   "cell_type": "markdown",
   "id": "0365f292",
   "metadata": {},
   "source": [
    "通过Assistant API获得Agent回复的过程需要涉及到如thread、message、run等概念，如果你对这些概念与细节感兴趣，请参考阿里云Assistant API官方文档。\n",
    "\n",
    "我们封装好了一个辅助函数get_agent_response，你只需要传入Agent与提问内容，即可得到指定Agent的回复。\n",
    "\n",
    "如果你希望给Agent配备更多的能力，可以添加工具函数，并在function_mapper与tools中建立映射关系。"
   ]
  },
  {
   "cell_type": "code",
   "execution_count": 36,
   "id": "5750d208",
   "metadata": {},
   "outputs": [],
   "source": [
    "# 输入message信息，输出为指定Agent的回复\n",
    "def get_agent_response(assistant, message=''):\n",
    "  # 打印出输入Agent的信息\n",
    "  thread = Threads.create()\n",
    "  message = Messages.create(thread.id, content=message)\n",
    "  run = Runs.create(thread.id, assistant_id=assistant.id)\n",
    "  run_status = Runs.wait(run.id, thread_id=thread.id)\n",
    "  # 如果响应失败，会打印出run failed\n",
    "  if run_status.status == 'failed':\n",
    "    print('run failed:')\n",
    "  # 如果需要工具来辅助大模型输出，则进行以下流程\n",
    "  if run_status.required_action:\n",
    "    f = run_status.required_action.submit_tool_outputs.tool_calls[0].function\n",
    "    # 获得function name\n",
    "    func_name = f['name']\n",
    "    # 获得function 的入参\n",
    "    param = json.loads(f['arguments'])\n",
    "    # 打印出工具信息\n",
    "    print(\"function is: \", f)\n",
    "    # 根据function name，通过function_mapper映射到函数，并将参数输入工具函数得到output输出\n",
    "    if func_name in function_mapper:\n",
    "      output = function_mapper[func_name](**param)\n",
    "    else:\n",
    "      output = \"\"\n",
    "\n",
    "    tool_outputs = [{\n",
    "      'output': output\n",
    "    }]\n",
    "    run = Runs.submit_tool_outputs(run.id, thread_id=thread.id, tool_outputs=tool_outputs)\n",
    "    run_status = Runs.wait(run.id, thread_id=thread.id)\n",
    "\n",
    "  run_status = Runs.get(run.id, thread_id=thread.id)\n",
    "  msgs = Messages.list(thread.id)\n",
    "  # 将Agent的输出返回\n",
    "  return msgs['data'][0]['content'][0]['text']['value']"
   ]
  },
  {
   "cell_type": "markdown",
   "id": "27731515",
   "metadata": {},
   "source": [
    "我们可以向ChatAssistant提问，测试一下回复效果。"
   ]
  },
  {
   "cell_type": "code",
   "execution_count": 37,
   "id": "34239e90",
   "metadata": {},
   "outputs": [
    {
     "name": "stdout",
     "output_type": "stream",
     "text": [
      "提问是: \n",
      "谁是张三的HR？\n",
      "思考过程与最终输出是: \n",
      "function is:  {'name': '查询员工信息', 'arguments': '{\"query\": \"谁是张三的HR？\"}', 'output': None}\n",
      "SQL statement is: select hr from employees where name = '张三';\n",
      "很抱歉，目前我无法查询到张三的HR信息。建议您直接联系人力资源部门或通过公司内部系统进行查询。\n",
      "\n",
      "\n",
      "提问是: \n",
      "教育部门一共有多少员工？\n",
      "思考过程与最终输出是: \n",
      "function is:  {'name': '查询员工信息', 'arguments': '{\"query\": \"教育部门一共有多少员工？\"}', 'output': None}\n",
      "SQL statement is: select count(*) from employees where department = '教育部门';\n",
      "抱歉，目前我无法查询到教育部门的员工总数。请确认相关信息或稍后再试。\n",
      "\n",
      "\n",
      "提问是: \n",
      "王五在哪个部门？\n",
      "思考过程与最终输出是: \n",
      "function is:  {'name': '查询员工信息', 'arguments': '{\"query\": \"王五在哪个部门\"}', 'output': None}\n",
      "SQL statement is: select department from employees where name = '王五'\n",
      "王五在后勤部。\n",
      "\n",
      "\n",
      "提问是: \n",
      "帮我提交下周三请假的申请\n",
      "思考过程与最终输出是: \n",
      "function is:  {'name': '发送请假申请', 'arguments': '{\"date\": \"下周三\"}', 'output': None}\n",
      "已为你发送请假申请，日期为下周三（2025年9月24日）。如有其他需要，请随时告知。\n",
      "\n",
      "\n",
      "提问是: \n",
      "我们公司应该用什么项目管理工具呢？\n",
      "思考过程与最终输出是: \n",
      "function is:  {'name': '查询公司规章制度', 'arguments': '{\"query\": \"公司项目管理的工具\"}', 'output': None}\n",
      "根据公司的规定，项目管理工具有以下两种选择：\n",
      "\n",
      "1. **Jira**：适用于软件开发团队，支持敏捷开发方法，如Scrum和Kanban，提供问题跟踪、时间跟踪等功能。\n",
      "2. **Microsoft Project**：适合大型企业或复杂项目，提供详细的计划制定、资源分配和成本控制等功能。\n",
      "\n",
      "目前，公司已经购买了Microsoft Project的完整许可证，一般情况下应优先使用该工具。需要注意的是，软件研发一组、三组和四组目前使用Jira，并计划于2026年之前逐步切换至Microsoft Project。\n",
      "\n",
      "\n"
     ]
    }
   ],
   "source": [
    "query_stk = [\n",
    "  \"谁是张三的HR？\",\n",
    "  \"教育部门一共有多少员工？\",\n",
    "  \"王五在哪个部门？\",\n",
    "  \"帮我提交下周三请假的申请\",\n",
    "  \"我们公司应该用什么项目管理工具呢？\"\n",
    "]\n",
    "\n",
    "for query in query_stk:\n",
    "  print(\"提问是: \")\n",
    "  print(query)\n",
    "  print(\"思考过程与最终输出是: \")\n",
    "  print(get_agent_response(ChatAssistant, query))\n",
    "  print(\"\\n\")"
   ]
  },
  {
   "cell_type": "markdown",
   "id": "c928f5be",
   "metadata": {},
   "source": [
    "从测试结果可以看出，拓展了功能之后的答疑机器人达到了你预期的效果。"
   ]
  }
 ],
 "metadata": {
  "kernelspec": {
   "display_name": "ACPEnv",
   "language": "python",
   "name": "python3"
  },
  "language_info": {
   "codemirror_mode": {
    "name": "ipython",
    "version": 3
   },
   "file_extension": ".py",
   "mimetype": "text/x-python",
   "name": "python",
   "nbconvert_exporter": "python",
   "pygments_lexer": "ipython3",
   "version": "3.13.5"
  }
 },
 "nbformat": 4,
 "nbformat_minor": 5
}
